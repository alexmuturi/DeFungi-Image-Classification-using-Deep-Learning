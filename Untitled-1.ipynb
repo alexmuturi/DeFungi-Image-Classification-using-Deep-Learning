{
 "cells": [
  {
   "cell_type": "code",
   "execution_count": 2,
   "metadata": {},
   "outputs": [
    {
     "name": "stdout",
     "output_type": "stream",
     "text": [
      "Requirement already satisfied: tensorflow in /Users/maryan/anaconda3/envs/learn-env/lib/python3.9/site-packages (2.15.0)\n",
      "Requirement already satisfied: tensorflow-macos==2.15.0 in /Users/maryan/anaconda3/envs/learn-env/lib/python3.9/site-packages (from tensorflow) (2.15.0)\n",
      "Requirement already satisfied: absl-py>=1.0.0 in /Users/maryan/anaconda3/envs/learn-env/lib/python3.9/site-packages (from tensorflow-macos==2.15.0->tensorflow) (1.4.0)\n",
      "Requirement already satisfied: astunparse>=1.6.0 in /Users/maryan/anaconda3/envs/learn-env/lib/python3.9/site-packages (from tensorflow-macos==2.15.0->tensorflow) (1.6.3)\n",
      "Requirement already satisfied: flatbuffers>=23.5.26 in /Users/maryan/anaconda3/envs/learn-env/lib/python3.9/site-packages (from tensorflow-macos==2.15.0->tensorflow) (23.5.26)\n",
      "Requirement already satisfied: gast!=0.5.0,!=0.5.1,!=0.5.2,>=0.2.1 in /Users/maryan/anaconda3/envs/learn-env/lib/python3.9/site-packages (from tensorflow-macos==2.15.0->tensorflow) (0.4.0)\n",
      "Requirement already satisfied: google-pasta>=0.1.1 in /Users/maryan/anaconda3/envs/learn-env/lib/python3.9/site-packages (from tensorflow-macos==2.15.0->tensorflow) (0.2.0)\n",
      "Requirement already satisfied: h5py>=2.9.0 in /Users/maryan/anaconda3/envs/learn-env/lib/python3.9/site-packages (from tensorflow-macos==2.15.0->tensorflow) (3.6.0)\n",
      "Requirement already satisfied: libclang>=13.0.0 in /Users/maryan/anaconda3/envs/learn-env/lib/python3.9/site-packages (from tensorflow-macos==2.15.0->tensorflow) (16.0.0)\n",
      "Requirement already satisfied: ml-dtypes~=0.2.0 in /Users/maryan/anaconda3/envs/learn-env/lib/python3.9/site-packages (from tensorflow-macos==2.15.0->tensorflow) (0.2.0)\n",
      "Requirement already satisfied: numpy<2.0.0,>=1.23.5 in /Users/maryan/anaconda3/envs/learn-env/lib/python3.9/site-packages (from tensorflow-macos==2.15.0->tensorflow) (1.26.2)\n",
      "Requirement already satisfied: opt-einsum>=2.3.2 in /Users/maryan/anaconda3/envs/learn-env/lib/python3.9/site-packages (from tensorflow-macos==2.15.0->tensorflow) (3.3.0)\n",
      "Requirement already satisfied: packaging in /Users/maryan/anaconda3/envs/learn-env/lib/python3.9/site-packages (from tensorflow-macos==2.15.0->tensorflow) (23.1)\n",
      "Requirement already satisfied: protobuf!=4.21.0,!=4.21.1,!=4.21.2,!=4.21.3,!=4.21.4,!=4.21.5,<5.0.0dev,>=3.20.3 in /Users/maryan/anaconda3/envs/learn-env/lib/python3.9/site-packages (from tensorflow-macos==2.15.0->tensorflow) (4.23.4)\n",
      "Requirement already satisfied: setuptools in /Users/maryan/anaconda3/envs/learn-env/lib/python3.9/site-packages (from tensorflow-macos==2.15.0->tensorflow) (67.7.2)\n",
      "Requirement already satisfied: six>=1.12.0 in /Users/maryan/anaconda3/envs/learn-env/lib/python3.9/site-packages (from tensorflow-macos==2.15.0->tensorflow) (1.15.0)\n",
      "Requirement already satisfied: termcolor>=1.1.0 in /Users/maryan/anaconda3/envs/learn-env/lib/python3.9/site-packages (from tensorflow-macos==2.15.0->tensorflow) (2.3.0)\n",
      "Requirement already satisfied: typing-extensions>=3.6.6 in /Users/maryan/anaconda3/envs/learn-env/lib/python3.9/site-packages (from tensorflow-macos==2.15.0->tensorflow) (4.5.0)\n",
      "Requirement already satisfied: wrapt<1.15,>=1.11.0 in /Users/maryan/anaconda3/envs/learn-env/lib/python3.9/site-packages (from tensorflow-macos==2.15.0->tensorflow) (1.14.1)\n",
      "Requirement already satisfied: tensorflow-io-gcs-filesystem>=0.23.1 in /Users/maryan/anaconda3/envs/learn-env/lib/python3.9/site-packages (from tensorflow-macos==2.15.0->tensorflow) (0.34.0)\n",
      "Requirement already satisfied: grpcio<2.0,>=1.24.3 in /Users/maryan/anaconda3/envs/learn-env/lib/python3.9/site-packages (from tensorflow-macos==2.15.0->tensorflow) (1.59.3)\n",
      "Requirement already satisfied: tensorboard<2.16,>=2.15 in /Users/maryan/anaconda3/envs/learn-env/lib/python3.9/site-packages (from tensorflow-macos==2.15.0->tensorflow) (2.15.1)\n",
      "Requirement already satisfied: tensorflow-estimator<2.16,>=2.15.0 in /Users/maryan/anaconda3/envs/learn-env/lib/python3.9/site-packages (from tensorflow-macos==2.15.0->tensorflow) (2.15.0)\n",
      "Requirement already satisfied: keras<2.16,>=2.15.0 in /Users/maryan/anaconda3/envs/learn-env/lib/python3.9/site-packages (from tensorflow-macos==2.15.0->tensorflow) (2.15.0)\n",
      "Requirement already satisfied: wheel<1.0,>=0.23.0 in /Users/maryan/anaconda3/envs/learn-env/lib/python3.9/site-packages (from astunparse>=1.6.0->tensorflow-macos==2.15.0->tensorflow) (0.40.0)\n",
      "Requirement already satisfied: google-auth<3,>=1.6.3 in /Users/maryan/anaconda3/envs/learn-env/lib/python3.9/site-packages (from tensorboard<2.16,>=2.15->tensorflow-macos==2.15.0->tensorflow) (2.18.0)\n",
      "Requirement already satisfied: google-auth-oauthlib<2,>=0.5 in /Users/maryan/anaconda3/envs/learn-env/lib/python3.9/site-packages (from tensorboard<2.16,>=2.15->tensorflow-macos==2.15.0->tensorflow) (1.1.0)\n",
      "Requirement already satisfied: markdown>=2.6.8 in /Users/maryan/anaconda3/envs/learn-env/lib/python3.9/site-packages (from tensorboard<2.16,>=2.15->tensorflow-macos==2.15.0->tensorflow) (3.4.3)\n",
      "Requirement already satisfied: requests<3,>=2.21.0 in /Users/maryan/anaconda3/envs/learn-env/lib/python3.9/site-packages (from tensorboard<2.16,>=2.15->tensorflow-macos==2.15.0->tensorflow) (2.29.0)\n",
      "Requirement already satisfied: tensorboard-data-server<0.8.0,>=0.7.0 in /Users/maryan/anaconda3/envs/learn-env/lib/python3.9/site-packages (from tensorboard<2.16,>=2.15->tensorflow-macos==2.15.0->tensorflow) (0.7.2)\n",
      "Requirement already satisfied: werkzeug>=1.0.1 in /Users/maryan/anaconda3/envs/learn-env/lib/python3.9/site-packages (from tensorboard<2.16,>=2.15->tensorflow-macos==2.15.0->tensorflow) (2.3.4)\n",
      "Requirement already satisfied: cachetools<6.0,>=2.0.0 in /Users/maryan/anaconda3/envs/learn-env/lib/python3.9/site-packages (from google-auth<3,>=1.6.3->tensorboard<2.16,>=2.15->tensorflow-macos==2.15.0->tensorflow) (5.3.0)\n",
      "Requirement already satisfied: pyasn1-modules>=0.2.1 in /Users/maryan/anaconda3/envs/learn-env/lib/python3.9/site-packages (from google-auth<3,>=1.6.3->tensorboard<2.16,>=2.15->tensorflow-macos==2.15.0->tensorflow) (0.3.0)\n",
      "Requirement already satisfied: urllib3<2.0 in /Users/maryan/anaconda3/envs/learn-env/lib/python3.9/site-packages (from google-auth<3,>=1.6.3->tensorboard<2.16,>=2.15->tensorflow-macos==2.15.0->tensorflow) (1.26.15)\n",
      "Requirement already satisfied: rsa<5,>=3.1.4 in /Users/maryan/anaconda3/envs/learn-env/lib/python3.9/site-packages (from google-auth<3,>=1.6.3->tensorboard<2.16,>=2.15->tensorflow-macos==2.15.0->tensorflow) (4.9)\n",
      "Requirement already satisfied: requests-oauthlib>=0.7.0 in /Users/maryan/anaconda3/envs/learn-env/lib/python3.9/site-packages (from google-auth-oauthlib<2,>=0.5->tensorboard<2.16,>=2.15->tensorflow-macos==2.15.0->tensorflow) (1.3.1)\n",
      "Requirement already satisfied: importlib-metadata>=4.4 in /Users/maryan/anaconda3/envs/learn-env/lib/python3.9/site-packages (from markdown>=2.6.8->tensorboard<2.16,>=2.15->tensorflow-macos==2.15.0->tensorflow) (6.6.0)\n",
      "Requirement already satisfied: charset-normalizer<4,>=2 in /Users/maryan/anaconda3/envs/learn-env/lib/python3.9/site-packages (from requests<3,>=2.21.0->tensorboard<2.16,>=2.15->tensorflow-macos==2.15.0->tensorflow) (3.1.0)\n",
      "Requirement already satisfied: idna<4,>=2.5 in /Users/maryan/anaconda3/envs/learn-env/lib/python3.9/site-packages (from requests<3,>=2.21.0->tensorboard<2.16,>=2.15->tensorflow-macos==2.15.0->tensorflow) (3.4)\n",
      "Requirement already satisfied: certifi>=2017.4.17 in /Users/maryan/anaconda3/envs/learn-env/lib/python3.9/site-packages (from requests<3,>=2.21.0->tensorboard<2.16,>=2.15->tensorflow-macos==2.15.0->tensorflow) (2023.5.7)\n",
      "Requirement already satisfied: MarkupSafe>=2.1.1 in /Users/maryan/anaconda3/envs/learn-env/lib/python3.9/site-packages (from werkzeug>=1.0.1->tensorboard<2.16,>=2.15->tensorflow-macos==2.15.0->tensorflow) (2.1.2)\n",
      "Requirement already satisfied: zipp>=0.5 in /Users/maryan/anaconda3/envs/learn-env/lib/python3.9/site-packages (from importlib-metadata>=4.4->markdown>=2.6.8->tensorboard<2.16,>=2.15->tensorflow-macos==2.15.0->tensorflow) (3.15.0)\n",
      "Requirement already satisfied: pyasn1<0.6.0,>=0.4.6 in /Users/maryan/anaconda3/envs/learn-env/lib/python3.9/site-packages (from pyasn1-modules>=0.2.1->google-auth<3,>=1.6.3->tensorboard<2.16,>=2.15->tensorflow-macos==2.15.0->tensorflow) (0.5.0)\n",
      "Requirement already satisfied: oauthlib>=3.0.0 in /Users/maryan/anaconda3/envs/learn-env/lib/python3.9/site-packages (from requests-oauthlib>=0.7.0->google-auth-oauthlib<2,>=0.5->tensorboard<2.16,>=2.15->tensorflow-macos==2.15.0->tensorflow) (3.2.2)\n",
      "Requirement already satisfied: keras in /Users/maryan/anaconda3/envs/learn-env/lib/python3.9/site-packages (2.15.0)\n"
     ]
    }
   ],
   "source": [
    "! pip install tensorflow \n",
    "! pip install keras\n"
   ]
  },
  {
   "cell_type": "code",
   "execution_count": 3,
   "metadata": {},
   "outputs": [
    {
     "ename": "NotFoundError",
     "evalue": "dlopen(/Users/maryan/anaconda3/envs/learn-env/lib/python3.9/site-packages/tensorflow-plugins/libmetal_plugin.dylib, 0x0006): symbol not found in flat namespace '__ZN10tensorflow8internal10LogMessage16VmoduleActivatedEPKci'",
     "output_type": "error",
     "traceback": [
      "\u001b[0;31m---------------------------------------------------------------------------\u001b[0m",
      "\u001b[0;31mNotFoundError\u001b[0m                             Traceback (most recent call last)",
      "\u001b[1;32mUntitled-1.ipynb Cell 2\u001b[0m line \u001b[0;36m1\n\u001b[0;32m----> <a href='vscode-notebook-cell:Untitled-1.ipynb?jupyter-notebook#W1sdW50aXRsZWQ%3D?line=0'>1</a>\u001b[0m \u001b[39mfrom\u001b[39;00m \u001b[39mtensorflow\u001b[39;00m\u001b[39m.\u001b[39;00m\u001b[39mkeras\u001b[39;00m\u001b[39m.\u001b[39;00m\u001b[39mpreprocessing\u001b[39;00m\u001b[39m.\u001b[39;00m\u001b[39mimage\u001b[39;00m \u001b[39mimport\u001b[39;00m ImageDataGenerator\n",
      "File \u001b[0;32m~/anaconda3/envs/learn-env/lib/python3.9/site-packages/tensorflow/__init__.py:455\u001b[0m\n\u001b[1;32m    453\u001b[0m _plugin_dir \u001b[39m=\u001b[39m _os\u001b[39m.\u001b[39mpath\u001b[39m.\u001b[39mjoin(_s, \u001b[39m\"\u001b[39m\u001b[39mtensorflow-plugins\u001b[39m\u001b[39m\"\u001b[39m)\n\u001b[1;32m    454\u001b[0m \u001b[39mif\u001b[39;00m _os\u001b[39m.\u001b[39mpath\u001b[39m.\u001b[39mexists(_plugin_dir):\n\u001b[0;32m--> 455\u001b[0m   _ll\u001b[39m.\u001b[39;49mload_library(_plugin_dir)\n\u001b[1;32m    456\u001b[0m   \u001b[39m# Load Pluggable Device Library\u001b[39;00m\n\u001b[1;32m    457\u001b[0m   _ll\u001b[39m.\u001b[39mload_pluggable_device_library(_plugin_dir)\n",
      "File \u001b[0;32m~/anaconda3/envs/learn-env/lib/python3.9/site-packages/tensorflow/python/framework/load_library.py:151\u001b[0m, in \u001b[0;36mload_library\u001b[0;34m(library_location)\u001b[0m\n\u001b[1;32m    148\u001b[0m     kernel_libraries \u001b[39m=\u001b[39m [library_location]\n\u001b[1;32m    150\u001b[0m   \u001b[39mfor\u001b[39;00m lib \u001b[39min\u001b[39;00m kernel_libraries:\n\u001b[0;32m--> 151\u001b[0m     py_tf\u001b[39m.\u001b[39;49mTF_LoadLibrary(lib)\n\u001b[1;32m    153\u001b[0m \u001b[39melse\u001b[39;00m:\n\u001b[1;32m    154\u001b[0m   \u001b[39mraise\u001b[39;00m \u001b[39mOSError\u001b[39;00m(\n\u001b[1;32m    155\u001b[0m       errno\u001b[39m.\u001b[39mENOENT,\n\u001b[1;32m    156\u001b[0m       \u001b[39m'\u001b[39m\u001b[39mThe file or folder to load kernel libraries from does not exist.\u001b[39m\u001b[39m'\u001b[39m,\n\u001b[1;32m    157\u001b[0m       library_location)\n",
      "\u001b[0;31mNotFoundError\u001b[0m: dlopen(/Users/maryan/anaconda3/envs/learn-env/lib/python3.9/site-packages/tensorflow-plugins/libmetal_plugin.dylib, 0x0006): symbol not found in flat namespace '__ZN10tensorflow8internal10LogMessage16VmoduleActivatedEPKci'"
     ]
    }
   ],
   "source": [
    "from tensorflow.keras.preprocessing.image import ImageDataGenerator"
   ]
  },
  {
   "cell_type": "code",
   "execution_count": 5,
   "metadata": {},
   "outputs": [
    {
     "name": "stdout",
     "output_type": "stream",
     "text": [
      "Requirement already satisfied: tensorflow-macos in /Users/maryan/anaconda3/envs/learn-env/lib/python3.9/site-packages (2.15.0)\n",
      "Requirement already satisfied: absl-py>=1.0.0 in /Users/maryan/anaconda3/envs/learn-env/lib/python3.9/site-packages (from tensorflow-macos) (1.4.0)\n",
      "Requirement already satisfied: astunparse>=1.6.0 in /Users/maryan/anaconda3/envs/learn-env/lib/python3.9/site-packages (from tensorflow-macos) (1.6.3)\n",
      "Requirement already satisfied: flatbuffers>=23.5.26 in /Users/maryan/anaconda3/envs/learn-env/lib/python3.9/site-packages (from tensorflow-macos) (23.5.26)\n",
      "Requirement already satisfied: gast!=0.5.0,!=0.5.1,!=0.5.2,>=0.2.1 in /Users/maryan/anaconda3/envs/learn-env/lib/python3.9/site-packages (from tensorflow-macos) (0.4.0)\n",
      "Requirement already satisfied: google-pasta>=0.1.1 in /Users/maryan/anaconda3/envs/learn-env/lib/python3.9/site-packages (from tensorflow-macos) (0.2.0)\n",
      "Requirement already satisfied: h5py>=2.9.0 in /Users/maryan/anaconda3/envs/learn-env/lib/python3.9/site-packages (from tensorflow-macos) (3.6.0)\n",
      "Requirement already satisfied: libclang>=13.0.0 in /Users/maryan/anaconda3/envs/learn-env/lib/python3.9/site-packages (from tensorflow-macos) (16.0.0)\n",
      "Requirement already satisfied: ml-dtypes~=0.2.0 in /Users/maryan/anaconda3/envs/learn-env/lib/python3.9/site-packages (from tensorflow-macos) (0.2.0)\n",
      "Requirement already satisfied: numpy<2.0.0,>=1.23.5 in /Users/maryan/anaconda3/envs/learn-env/lib/python3.9/site-packages (from tensorflow-macos) (1.26.2)\n",
      "Requirement already satisfied: opt-einsum>=2.3.2 in /Users/maryan/anaconda3/envs/learn-env/lib/python3.9/site-packages (from tensorflow-macos) (3.3.0)\n",
      "Requirement already satisfied: packaging in /Users/maryan/anaconda3/envs/learn-env/lib/python3.9/site-packages (from tensorflow-macos) (23.1)\n",
      "Requirement already satisfied: protobuf!=4.21.0,!=4.21.1,!=4.21.2,!=4.21.3,!=4.21.4,!=4.21.5,<5.0.0dev,>=3.20.3 in /Users/maryan/anaconda3/envs/learn-env/lib/python3.9/site-packages (from tensorflow-macos) (4.23.4)\n",
      "Requirement already satisfied: setuptools in /Users/maryan/anaconda3/envs/learn-env/lib/python3.9/site-packages (from tensorflow-macos) (67.7.2)\n",
      "Requirement already satisfied: six>=1.12.0 in /Users/maryan/anaconda3/envs/learn-env/lib/python3.9/site-packages (from tensorflow-macos) (1.15.0)\n",
      "Requirement already satisfied: termcolor>=1.1.0 in /Users/maryan/anaconda3/envs/learn-env/lib/python3.9/site-packages (from tensorflow-macos) (2.3.0)\n",
      "Requirement already satisfied: typing-extensions>=3.6.6 in /Users/maryan/anaconda3/envs/learn-env/lib/python3.9/site-packages (from tensorflow-macos) (4.5.0)\n",
      "Requirement already satisfied: wrapt<1.15,>=1.11.0 in /Users/maryan/anaconda3/envs/learn-env/lib/python3.9/site-packages (from tensorflow-macos) (1.14.1)\n",
      "Requirement already satisfied: tensorflow-io-gcs-filesystem>=0.23.1 in /Users/maryan/anaconda3/envs/learn-env/lib/python3.9/site-packages (from tensorflow-macos) (0.34.0)\n",
      "Requirement already satisfied: grpcio<2.0,>=1.24.3 in /Users/maryan/anaconda3/envs/learn-env/lib/python3.9/site-packages (from tensorflow-macos) (1.59.3)\n",
      "Requirement already satisfied: tensorboard<2.16,>=2.15 in /Users/maryan/anaconda3/envs/learn-env/lib/python3.9/site-packages (from tensorflow-macos) (2.15.1)\n",
      "Requirement already satisfied: tensorflow-estimator<2.16,>=2.15.0 in /Users/maryan/anaconda3/envs/learn-env/lib/python3.9/site-packages (from tensorflow-macos) (2.15.0)\n",
      "Requirement already satisfied: keras<2.16,>=2.15.0 in /Users/maryan/anaconda3/envs/learn-env/lib/python3.9/site-packages (from tensorflow-macos) (2.15.0)\n",
      "Requirement already satisfied: wheel<1.0,>=0.23.0 in /Users/maryan/anaconda3/envs/learn-env/lib/python3.9/site-packages (from astunparse>=1.6.0->tensorflow-macos) (0.40.0)\n",
      "Requirement already satisfied: google-auth<3,>=1.6.3 in /Users/maryan/anaconda3/envs/learn-env/lib/python3.9/site-packages (from tensorboard<2.16,>=2.15->tensorflow-macos) (2.18.0)\n",
      "Requirement already satisfied: google-auth-oauthlib<2,>=0.5 in /Users/maryan/anaconda3/envs/learn-env/lib/python3.9/site-packages (from tensorboard<2.16,>=2.15->tensorflow-macos) (1.1.0)\n",
      "Requirement already satisfied: markdown>=2.6.8 in /Users/maryan/anaconda3/envs/learn-env/lib/python3.9/site-packages (from tensorboard<2.16,>=2.15->tensorflow-macos) (3.4.3)\n",
      "Requirement already satisfied: requests<3,>=2.21.0 in /Users/maryan/anaconda3/envs/learn-env/lib/python3.9/site-packages (from tensorboard<2.16,>=2.15->tensorflow-macos) (2.29.0)\n",
      "Requirement already satisfied: tensorboard-data-server<0.8.0,>=0.7.0 in /Users/maryan/anaconda3/envs/learn-env/lib/python3.9/site-packages (from tensorboard<2.16,>=2.15->tensorflow-macos) (0.7.2)\n",
      "Requirement already satisfied: werkzeug>=1.0.1 in /Users/maryan/anaconda3/envs/learn-env/lib/python3.9/site-packages (from tensorboard<2.16,>=2.15->tensorflow-macos) (2.3.4)\n",
      "Requirement already satisfied: cachetools<6.0,>=2.0.0 in /Users/maryan/anaconda3/envs/learn-env/lib/python3.9/site-packages (from google-auth<3,>=1.6.3->tensorboard<2.16,>=2.15->tensorflow-macos) (5.3.0)\n",
      "Requirement already satisfied: pyasn1-modules>=0.2.1 in /Users/maryan/anaconda3/envs/learn-env/lib/python3.9/site-packages (from google-auth<3,>=1.6.3->tensorboard<2.16,>=2.15->tensorflow-macos) (0.3.0)\n",
      "Requirement already satisfied: urllib3<2.0 in /Users/maryan/anaconda3/envs/learn-env/lib/python3.9/site-packages (from google-auth<3,>=1.6.3->tensorboard<2.16,>=2.15->tensorflow-macos) (1.26.15)\n",
      "Requirement already satisfied: rsa<5,>=3.1.4 in /Users/maryan/anaconda3/envs/learn-env/lib/python3.9/site-packages (from google-auth<3,>=1.6.3->tensorboard<2.16,>=2.15->tensorflow-macos) (4.9)\n",
      "Requirement already satisfied: requests-oauthlib>=0.7.0 in /Users/maryan/anaconda3/envs/learn-env/lib/python3.9/site-packages (from google-auth-oauthlib<2,>=0.5->tensorboard<2.16,>=2.15->tensorflow-macos) (1.3.1)\n",
      "Requirement already satisfied: importlib-metadata>=4.4 in /Users/maryan/anaconda3/envs/learn-env/lib/python3.9/site-packages (from markdown>=2.6.8->tensorboard<2.16,>=2.15->tensorflow-macos) (6.6.0)\n",
      "Requirement already satisfied: charset-normalizer<4,>=2 in /Users/maryan/anaconda3/envs/learn-env/lib/python3.9/site-packages (from requests<3,>=2.21.0->tensorboard<2.16,>=2.15->tensorflow-macos) (3.1.0)\n",
      "Requirement already satisfied: idna<4,>=2.5 in /Users/maryan/anaconda3/envs/learn-env/lib/python3.9/site-packages (from requests<3,>=2.21.0->tensorboard<2.16,>=2.15->tensorflow-macos) (3.4)\n",
      "Requirement already satisfied: certifi>=2017.4.17 in /Users/maryan/anaconda3/envs/learn-env/lib/python3.9/site-packages (from requests<3,>=2.21.0->tensorboard<2.16,>=2.15->tensorflow-macos) (2023.5.7)\n",
      "Requirement already satisfied: MarkupSafe>=2.1.1 in /Users/maryan/anaconda3/envs/learn-env/lib/python3.9/site-packages (from werkzeug>=1.0.1->tensorboard<2.16,>=2.15->tensorflow-macos) (2.1.2)\n",
      "Requirement already satisfied: zipp>=0.5 in /Users/maryan/anaconda3/envs/learn-env/lib/python3.9/site-packages (from importlib-metadata>=4.4->markdown>=2.6.8->tensorboard<2.16,>=2.15->tensorflow-macos) (3.15.0)\n",
      "Requirement already satisfied: pyasn1<0.6.0,>=0.4.6 in /Users/maryan/anaconda3/envs/learn-env/lib/python3.9/site-packages (from pyasn1-modules>=0.2.1->google-auth<3,>=1.6.3->tensorboard<2.16,>=2.15->tensorflow-macos) (0.5.0)\n",
      "Requirement already satisfied: oauthlib>=3.0.0 in /Users/maryan/anaconda3/envs/learn-env/lib/python3.9/site-packages (from requests-oauthlib>=0.7.0->google-auth-oauthlib<2,>=0.5->tensorboard<2.16,>=2.15->tensorflow-macos) (3.2.2)\n",
      "Requirement already satisfied: tensorflow-metal in /Users/maryan/anaconda3/envs/learn-env/lib/python3.9/site-packages (0.5.0)\n",
      "Requirement already satisfied: wheel~=0.35 in /Users/maryan/anaconda3/envs/learn-env/lib/python3.9/site-packages (from tensorflow-metal) (0.40.0)\n",
      "Requirement already satisfied: six~=1.15.0 in /Users/maryan/anaconda3/envs/learn-env/lib/python3.9/site-packages (from tensorflow-metal) (1.15.0)\n"
     ]
    }
   ],
   "source": [
    "! pip install tensorflow-macos\n",
    "! pip install tensorflow-metal"
   ]
  },
  {
   "cell_type": "code",
   "execution_count": 6,
   "metadata": {},
   "outputs": [
    {
     "ename": "NotFoundError",
     "evalue": "dlopen(/Users/maryan/anaconda3/envs/learn-env/lib/python3.9/site-packages/tensorflow-plugins/libmetal_plugin.dylib, 0x0006): symbol not found in flat namespace '__ZN10tensorflow8internal10LogMessage16VmoduleActivatedEPKci'",
     "output_type": "error",
     "traceback": [
      "\u001b[0;31m---------------------------------------------------------------------------\u001b[0m",
      "\u001b[0;31mNotFoundError\u001b[0m                             Traceback (most recent call last)",
      "\u001b[1;32mUntitled-1.ipynb Cell 4\u001b[0m line \u001b[0;36m1\n\u001b[0;32m----> <a href='vscode-notebook-cell:Untitled-1.ipynb?jupyter-notebook#W3sdW50aXRsZWQ%3D?line=0'>1</a>\u001b[0m \u001b[39mimport\u001b[39;00m \u001b[39mtensorflow\u001b[39;00m \u001b[39mas\u001b[39;00m \u001b[39mtf\u001b[39;00m\n\u001b[1;32m      <a href='vscode-notebook-cell:Untitled-1.ipynb?jupyter-notebook#W3sdW50aXRsZWQ%3D?line=1'>2</a>\u001b[0m \u001b[39mprint\u001b[39m(tf\u001b[39m.\u001b[39m__version__)\n\u001b[1;32m      <a href='vscode-notebook-cell:Untitled-1.ipynb?jupyter-notebook#W3sdW50aXRsZWQ%3D?line=2'>3</a>\u001b[0m \u001b[39mprint\u001b[39m(tf\u001b[39m.\u001b[39mreduce_sum(tf\u001b[39m.\u001b[39mrandom\u001b[39m.\u001b[39mnormal([\u001b[39m1000\u001b[39m, \u001b[39m1000\u001b[39m])))\n",
      "File \u001b[0;32m~/anaconda3/envs/learn-env/lib/python3.9/site-packages/tensorflow/__init__.py:455\u001b[0m\n\u001b[1;32m    453\u001b[0m _plugin_dir \u001b[39m=\u001b[39m _os\u001b[39m.\u001b[39mpath\u001b[39m.\u001b[39mjoin(_s, \u001b[39m\"\u001b[39m\u001b[39mtensorflow-plugins\u001b[39m\u001b[39m\"\u001b[39m)\n\u001b[1;32m    454\u001b[0m \u001b[39mif\u001b[39;00m _os\u001b[39m.\u001b[39mpath\u001b[39m.\u001b[39mexists(_plugin_dir):\n\u001b[0;32m--> 455\u001b[0m   _ll\u001b[39m.\u001b[39;49mload_library(_plugin_dir)\n\u001b[1;32m    456\u001b[0m   \u001b[39m# Load Pluggable Device Library\u001b[39;00m\n\u001b[1;32m    457\u001b[0m   _ll\u001b[39m.\u001b[39mload_pluggable_device_library(_plugin_dir)\n",
      "File \u001b[0;32m~/anaconda3/envs/learn-env/lib/python3.9/site-packages/tensorflow/python/framework/load_library.py:151\u001b[0m, in \u001b[0;36mload_library\u001b[0;34m(library_location)\u001b[0m\n\u001b[1;32m    148\u001b[0m     kernel_libraries \u001b[39m=\u001b[39m [library_location]\n\u001b[1;32m    150\u001b[0m   \u001b[39mfor\u001b[39;00m lib \u001b[39min\u001b[39;00m kernel_libraries:\n\u001b[0;32m--> 151\u001b[0m     py_tf\u001b[39m.\u001b[39;49mTF_LoadLibrary(lib)\n\u001b[1;32m    153\u001b[0m \u001b[39melse\u001b[39;00m:\n\u001b[1;32m    154\u001b[0m   \u001b[39mraise\u001b[39;00m \u001b[39mOSError\u001b[39;00m(\n\u001b[1;32m    155\u001b[0m       errno\u001b[39m.\u001b[39mENOENT,\n\u001b[1;32m    156\u001b[0m       \u001b[39m'\u001b[39m\u001b[39mThe file or folder to load kernel libraries from does not exist.\u001b[39m\u001b[39m'\u001b[39m,\n\u001b[1;32m    157\u001b[0m       library_location)\n",
      "\u001b[0;31mNotFoundError\u001b[0m: dlopen(/Users/maryan/anaconda3/envs/learn-env/lib/python3.9/site-packages/tensorflow-plugins/libmetal_plugin.dylib, 0x0006): symbol not found in flat namespace '__ZN10tensorflow8internal10LogMessage16VmoduleActivatedEPKci'"
     ]
    }
   ],
   "source": [
    "import tensorflow as tf\n",
    "print(tf.__version__)\n",
    "print(tf.reduce_sum(tf.random.normal([1000, 1000])))"
   ]
  },
  {
   "cell_type": "code",
   "execution_count": 12,
   "metadata": {},
   "outputs": [
    {
     "name": "stdout",
     "output_type": "stream",
     "text": [
      "2.15.0\n",
      "tf.Tensor(-915.0106, shape=(), dtype=float32)\n"
     ]
    },
    {
     "name": "stderr",
     "output_type": "stream",
     "text": [
      "2023-12-09 14:29:25.752141: I metal_plugin/src/device/metal_device.cc:1154] Metal device set to: Apple M2\n",
      "2023-12-09 14:29:25.752158: I metal_plugin/src/device/metal_device.cc:296] systemMemory: 8.00 GB\n",
      "2023-12-09 14:29:25.752163: I metal_plugin/src/device/metal_device.cc:313] maxCacheSize: 2.67 GB\n",
      "2023-12-09 14:29:25.752208: I tensorflow/core/common_runtime/pluggable_device/pluggable_device_factory.cc:306] Could not identify NUMA node of platform GPU ID 0, defaulting to 0. Your kernel may not have been built with NUMA support.\n",
      "2023-12-09 14:29:25.752437: I tensorflow/core/common_runtime/pluggable_device/pluggable_device_factory.cc:272] Created TensorFlow device (/job:localhost/replica:0/task:0/device:GPU:0 with 0 MB memory) -> physical PluggableDevice (device: 0, name: METAL, pci bus id: <undefined>)\n"
     ]
    }
   ],
   "source": [
    "import tensorflow as tf\n",
    "print(tf.__version__)\n",
    "print(tf.reduce_sum(tf.random.normal([1000, 1000])))"
   ]
  },
  {
   "cell_type": "code",
   "execution_count": 14,
   "metadata": {},
   "outputs": [],
   "source": [
    "from tensorflow.keras.preprocessing.image import ImageDataGenerator"
   ]
  }
 ],
 "metadata": {
  "kernelspec": {
   "display_name": "learn-env",
   "language": "python",
   "name": "python3"
  },
  "language_info": {
   "codemirror_mode": {
    "name": "ipython",
    "version": 3
   },
   "file_extension": ".py",
   "mimetype": "text/x-python",
   "name": "python",
   "nbconvert_exporter": "python",
   "pygments_lexer": "ipython3",
   "version": "3.9.16"
  }
 },
 "nbformat": 4,
 "nbformat_minor": 2
}
